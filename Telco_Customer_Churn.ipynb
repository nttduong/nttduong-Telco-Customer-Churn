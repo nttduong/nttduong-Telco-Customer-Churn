{
  "cells": [
    {
      "cell_type": "markdown",
      "id": "68796b03",
      "metadata": {
        "id": "68796b03"
      },
      "source": [
        "# Data Analysis Project — Telco Customer Churn\n",
        "Motivation and aim for this project: To analyze the dataset and to make actionable insights to retain customers \n",
        "and increase customers’ lifetime values"
      ]
    },
    {
      "cell_type": "code",
      "source": [
        "from google.colab import drive\n",
        "drive.mount('/content/drive')"
      ],
      "metadata": {
        "id": "6LpTA14T38QX",
        "colab": {
          "base_uri": "https://localhost:8080/"
        },
        "outputId": "d0e1fdc3-8365-4014-bdcb-3187c6d8e200"
      },
      "id": "6LpTA14T38QX",
      "execution_count": null,
      "outputs": [
        {
          "output_type": "stream",
          "name": "stdout",
          "text": [
            "Drive already mounted at /content/drive; to attempt to forcibly remount, call drive.mount(\"/content/drive\", force_remount=True).\n"
          ]
        }
      ]
    },
    {
      "cell_type": "code",
      "execution_count": null,
      "id": "8cedb23e",
      "metadata": {
        "id": "8cedb23e"
      },
      "outputs": [],
      "source": [
        "####Part 0: Imports the libraries for data loading,visualizition\n",
        "####Reading data using pandas \n",
        "###Count number of rows, columns\n",
        "### Using DataFrame.head() to get first 5 rows of DataFrame"
      ]
    },
    {
      "cell_type": "code",
      "source": [
        "import pandas as pd\n",
        "import numpy as np\n",
        "import missingno as msno\n",
        "import matplotlib.pyplot as plt\n",
        "import seaborn as sns\n",
        "import plotly.express as px\n",
        "import plotly.graph_objects as go\n",
        "from plotly.subplots import make_subplots"
      ],
      "metadata": {
        "id": "fvc2NIY-FFfN"
      },
      "id": "fvc2NIY-FFfN",
      "execution_count": null,
      "outputs": []
    },
    {
      "cell_type": "code",
      "source": [
        "df = pd.read_csv(\"/content/drive/MyDrive/Colab Notebooks/Data driven mkt/Midterm 2/WA_Fn-UseC_-Telco-Customer-Churn.csv\")"
      ],
      "metadata": {
        "id": "cpFDUwRp31nK"
      },
      "id": "cpFDUwRp31nK",
      "execution_count": null,
      "outputs": []
    },
    {
      "cell_type": "code",
      "source": [
        "df.head()"
      ],
      "metadata": {
        "colab": {
          "base_uri": "https://localhost:8080/",
          "height": 386
        },
        "id": "pcblE2OQ4TBl",
        "outputId": "df11578f-f4c3-426e-9197-2eed5eefacd7"
      },
      "id": "pcblE2OQ4TBl",
      "execution_count": null,
      "outputs": [
        {
          "output_type": "execute_result",
          "data": {
            "text/plain": [
              "   customerID  gender  SeniorCitizen Partner Dependents  tenure PhoneService  \\\n",
              "0  7590-VHVEG  Female              0     Yes         No       1           No   \n",
              "1  5575-GNVDE    Male              0      No         No      34          Yes   \n",
              "2  3668-QPYBK    Male              0      No         No       2          Yes   \n",
              "3  7795-CFOCW    Male              0      No         No      45           No   \n",
              "4  9237-HQITU  Female              0      No         No       2          Yes   \n",
              "\n",
              "      MultipleLines InternetService OnlineSecurity  ... DeviceProtection  \\\n",
              "0  No phone service             DSL             No  ...               No   \n",
              "1                No             DSL            Yes  ...              Yes   \n",
              "2                No             DSL            Yes  ...               No   \n",
              "3  No phone service             DSL            Yes  ...              Yes   \n",
              "4                No     Fiber optic             No  ...               No   \n",
              "\n",
              "  TechSupport StreamingTV StreamingMovies        Contract PaperlessBilling  \\\n",
              "0          No          No              No  Month-to-month              Yes   \n",
              "1          No          No              No        One year               No   \n",
              "2          No          No              No  Month-to-month              Yes   \n",
              "3         Yes          No              No        One year               No   \n",
              "4          No          No              No  Month-to-month              Yes   \n",
              "\n",
              "               PaymentMethod MonthlyCharges  TotalCharges Churn  \n",
              "0           Electronic check          29.85         29.85    No  \n",
              "1               Mailed check          56.95        1889.5    No  \n",
              "2               Mailed check          53.85        108.15   Yes  \n",
              "3  Bank transfer (automatic)          42.30       1840.75    No  \n",
              "4           Electronic check          70.70        151.65   Yes  \n",
              "\n",
              "[5 rows x 21 columns]"
            ],
            "text/html": [
              "\n",
              "  <div id=\"df-494a452b-b661-4815-9ed2-21e47919f8e5\">\n",
              "    <div class=\"colab-df-container\">\n",
              "      <div>\n",
              "<style scoped>\n",
              "    .dataframe tbody tr th:only-of-type {\n",
              "        vertical-align: middle;\n",
              "    }\n",
              "\n",
              "    .dataframe tbody tr th {\n",
              "        vertical-align: top;\n",
              "    }\n",
              "\n",
              "    .dataframe thead th {\n",
              "        text-align: right;\n",
              "    }\n",
              "</style>\n",
              "<table border=\"1\" class=\"dataframe\">\n",
              "  <thead>\n",
              "    <tr style=\"text-align: right;\">\n",
              "      <th></th>\n",
              "      <th>customerID</th>\n",
              "      <th>gender</th>\n",
              "      <th>SeniorCitizen</th>\n",
              "      <th>Partner</th>\n",
              "      <th>Dependents</th>\n",
              "      <th>tenure</th>\n",
              "      <th>PhoneService</th>\n",
              "      <th>MultipleLines</th>\n",
              "      <th>InternetService</th>\n",
              "      <th>OnlineSecurity</th>\n",
              "      <th>...</th>\n",
              "      <th>DeviceProtection</th>\n",
              "      <th>TechSupport</th>\n",
              "      <th>StreamingTV</th>\n",
              "      <th>StreamingMovies</th>\n",
              "      <th>Contract</th>\n",
              "      <th>PaperlessBilling</th>\n",
              "      <th>PaymentMethod</th>\n",
              "      <th>MonthlyCharges</th>\n",
              "      <th>TotalCharges</th>\n",
              "      <th>Churn</th>\n",
              "    </tr>\n",
              "  </thead>\n",
              "  <tbody>\n",
              "    <tr>\n",
              "      <th>0</th>\n",
              "      <td>7590-VHVEG</td>\n",
              "      <td>Female</td>\n",
              "      <td>0</td>\n",
              "      <td>Yes</td>\n",
              "      <td>No</td>\n",
              "      <td>1</td>\n",
              "      <td>No</td>\n",
              "      <td>No phone service</td>\n",
              "      <td>DSL</td>\n",
              "      <td>No</td>\n",
              "      <td>...</td>\n",
              "      <td>No</td>\n",
              "      <td>No</td>\n",
              "      <td>No</td>\n",
              "      <td>No</td>\n",
              "      <td>Month-to-month</td>\n",
              "      <td>Yes</td>\n",
              "      <td>Electronic check</td>\n",
              "      <td>29.85</td>\n",
              "      <td>29.85</td>\n",
              "      <td>No</td>\n",
              "    </tr>\n",
              "    <tr>\n",
              "      <th>1</th>\n",
              "      <td>5575-GNVDE</td>\n",
              "      <td>Male</td>\n",
              "      <td>0</td>\n",
              "      <td>No</td>\n",
              "      <td>No</td>\n",
              "      <td>34</td>\n",
              "      <td>Yes</td>\n",
              "      <td>No</td>\n",
              "      <td>DSL</td>\n",
              "      <td>Yes</td>\n",
              "      <td>...</td>\n",
              "      <td>Yes</td>\n",
              "      <td>No</td>\n",
              "      <td>No</td>\n",
              "      <td>No</td>\n",
              "      <td>One year</td>\n",
              "      <td>No</td>\n",
              "      <td>Mailed check</td>\n",
              "      <td>56.95</td>\n",
              "      <td>1889.5</td>\n",
              "      <td>No</td>\n",
              "    </tr>\n",
              "    <tr>\n",
              "      <th>2</th>\n",
              "      <td>3668-QPYBK</td>\n",
              "      <td>Male</td>\n",
              "      <td>0</td>\n",
              "      <td>No</td>\n",
              "      <td>No</td>\n",
              "      <td>2</td>\n",
              "      <td>Yes</td>\n",
              "      <td>No</td>\n",
              "      <td>DSL</td>\n",
              "      <td>Yes</td>\n",
              "      <td>...</td>\n",
              "      <td>No</td>\n",
              "      <td>No</td>\n",
              "      <td>No</td>\n",
              "      <td>No</td>\n",
              "      <td>Month-to-month</td>\n",
              "      <td>Yes</td>\n",
              "      <td>Mailed check</td>\n",
              "      <td>53.85</td>\n",
              "      <td>108.15</td>\n",
              "      <td>Yes</td>\n",
              "    </tr>\n",
              "    <tr>\n",
              "      <th>3</th>\n",
              "      <td>7795-CFOCW</td>\n",
              "      <td>Male</td>\n",
              "      <td>0</td>\n",
              "      <td>No</td>\n",
              "      <td>No</td>\n",
              "      <td>45</td>\n",
              "      <td>No</td>\n",
              "      <td>No phone service</td>\n",
              "      <td>DSL</td>\n",
              "      <td>Yes</td>\n",
              "      <td>...</td>\n",
              "      <td>Yes</td>\n",
              "      <td>Yes</td>\n",
              "      <td>No</td>\n",
              "      <td>No</td>\n",
              "      <td>One year</td>\n",
              "      <td>No</td>\n",
              "      <td>Bank transfer (automatic)</td>\n",
              "      <td>42.30</td>\n",
              "      <td>1840.75</td>\n",
              "      <td>No</td>\n",
              "    </tr>\n",
              "    <tr>\n",
              "      <th>4</th>\n",
              "      <td>9237-HQITU</td>\n",
              "      <td>Female</td>\n",
              "      <td>0</td>\n",
              "      <td>No</td>\n",
              "      <td>No</td>\n",
              "      <td>2</td>\n",
              "      <td>Yes</td>\n",
              "      <td>No</td>\n",
              "      <td>Fiber optic</td>\n",
              "      <td>No</td>\n",
              "      <td>...</td>\n",
              "      <td>No</td>\n",
              "      <td>No</td>\n",
              "      <td>No</td>\n",
              "      <td>No</td>\n",
              "      <td>Month-to-month</td>\n",
              "      <td>Yes</td>\n",
              "      <td>Electronic check</td>\n",
              "      <td>70.70</td>\n",
              "      <td>151.65</td>\n",
              "      <td>Yes</td>\n",
              "    </tr>\n",
              "  </tbody>\n",
              "</table>\n",
              "<p>5 rows × 21 columns</p>\n",
              "</div>\n",
              "      <button class=\"colab-df-convert\" onclick=\"convertToInteractive('df-494a452b-b661-4815-9ed2-21e47919f8e5')\"\n",
              "              title=\"Convert this dataframe to an interactive table.\"\n",
              "              style=\"display:none;\">\n",
              "        \n",
              "  <svg xmlns=\"http://www.w3.org/2000/svg\" height=\"24px\"viewBox=\"0 0 24 24\"\n",
              "       width=\"24px\">\n",
              "    <path d=\"M0 0h24v24H0V0z\" fill=\"none\"/>\n",
              "    <path d=\"M18.56 5.44l.94 2.06.94-2.06 2.06-.94-2.06-.94-.94-2.06-.94 2.06-2.06.94zm-11 1L8.5 8.5l.94-2.06 2.06-.94-2.06-.94L8.5 2.5l-.94 2.06-2.06.94zm10 10l.94 2.06.94-2.06 2.06-.94-2.06-.94-.94-2.06-.94 2.06-2.06.94z\"/><path d=\"M17.41 7.96l-1.37-1.37c-.4-.4-.92-.59-1.43-.59-.52 0-1.04.2-1.43.59L10.3 9.45l-7.72 7.72c-.78.78-.78 2.05 0 2.83L4 21.41c.39.39.9.59 1.41.59.51 0 1.02-.2 1.41-.59l7.78-7.78 2.81-2.81c.8-.78.8-2.07 0-2.86zM5.41 20L4 18.59l7.72-7.72 1.47 1.35L5.41 20z\"/>\n",
              "  </svg>\n",
              "      </button>\n",
              "      \n",
              "  <style>\n",
              "    .colab-df-container {\n",
              "      display:flex;\n",
              "      flex-wrap:wrap;\n",
              "      gap: 12px;\n",
              "    }\n",
              "\n",
              "    .colab-df-convert {\n",
              "      background-color: #E8F0FE;\n",
              "      border: none;\n",
              "      border-radius: 50%;\n",
              "      cursor: pointer;\n",
              "      display: none;\n",
              "      fill: #1967D2;\n",
              "      height: 32px;\n",
              "      padding: 0 0 0 0;\n",
              "      width: 32px;\n",
              "    }\n",
              "\n",
              "    .colab-df-convert:hover {\n",
              "      background-color: #E2EBFA;\n",
              "      box-shadow: 0px 1px 2px rgba(60, 64, 67, 0.3), 0px 1px 3px 1px rgba(60, 64, 67, 0.15);\n",
              "      fill: #174EA6;\n",
              "    }\n",
              "\n",
              "    [theme=dark] .colab-df-convert {\n",
              "      background-color: #3B4455;\n",
              "      fill: #D2E3FC;\n",
              "    }\n",
              "\n",
              "    [theme=dark] .colab-df-convert:hover {\n",
              "      background-color: #434B5C;\n",
              "      box-shadow: 0px 1px 3px 1px rgba(0, 0, 0, 0.15);\n",
              "      filter: drop-shadow(0px 1px 2px rgba(0, 0, 0, 0.3));\n",
              "      fill: #FFFFFF;\n",
              "    }\n",
              "  </style>\n",
              "\n",
              "      <script>\n",
              "        const buttonEl =\n",
              "          document.querySelector('#df-494a452b-b661-4815-9ed2-21e47919f8e5 button.colab-df-convert');\n",
              "        buttonEl.style.display =\n",
              "          google.colab.kernel.accessAllowed ? 'block' : 'none';\n",
              "\n",
              "        async function convertToInteractive(key) {\n",
              "          const element = document.querySelector('#df-494a452b-b661-4815-9ed2-21e47919f8e5');\n",
              "          const dataTable =\n",
              "            await google.colab.kernel.invokeFunction('convertToInteractive',\n",
              "                                                     [key], {});\n",
              "          if (!dataTable) return;\n",
              "\n",
              "          const docLinkHtml = 'Like what you see? Visit the ' +\n",
              "            '<a target=\"_blank\" href=https://colab.research.google.com/notebooks/data_table.ipynb>data table notebook</a>'\n",
              "            + ' to learn more about interactive tables.';\n",
              "          element.innerHTML = '';\n",
              "          dataTable['output_type'] = 'display_data';\n",
              "          await google.colab.output.renderOutput(dataTable, element);\n",
              "          const docLink = document.createElement('div');\n",
              "          docLink.innerHTML = docLinkHtml;\n",
              "          element.appendChild(docLink);\n",
              "        }\n",
              "      </script>\n",
              "    </div>\n",
              "  </div>\n",
              "  "
            ]
          },
          "metadata": {},
          "execution_count": 10
        }
      ]
    },
    {
      "cell_type": "code",
      "source": [
        "print(\"Number of row:\", df.shape[0])\n",
        "print(\"Number of columns:\", df.shape[1])"
      ],
      "metadata": {
        "colab": {
          "base_uri": "https://localhost:8080/"
        },
        "id": "dwNF8lW74TKG",
        "outputId": "a5260e4e-1712-491d-cd72-6a6dc2133df5"
      },
      "id": "dwNF8lW74TKG",
      "execution_count": null,
      "outputs": [
        {
          "output_type": "stream",
          "name": "stdout",
          "text": [
            "Number of row: 7043\n",
            "Number of columns: 21\n"
          ]
        }
      ]
    },
    {
      "cell_type": "markdown",
      "id": "f7a6f0fd",
      "metadata": {
        "id": "f7a6f0fd"
      },
      "source": [
        "Description of this dataset: \\\n",
        "The data set includes information about: \n",
        "    Tập dữ liệu bao gồm 7043 hàng và 21 cột. Mỗi hàng đại diện cho một khách hàng, mỗi cột chứa các thuộc tính của khách hàng được mô tả.\n",
        "     \n",
        "*   Thông tin tài khoản khách hàng (họ đã là khách hàng trong bao lâu, hợp đồng, phương thức thanh toán, các khoản phí hàng tháng và tổng các khoản phí)\n",
        "* Thông tin nhân khẩu học về khách hàng (giới tính, độ tuổi,...)\n",
        "* Những khách hàng đã rời đi trong tháng trước (cột: Churn)\n",
        "* Các dịch vụ mà khách hàng đã đăng ký (điện thoại, internet,TV trực tuyến  và phim,...)"
      ]
    },
    {
      "cell_type": "markdown",
      "id": "6de59b33",
      "metadata": {
        "id": "6de59b33"
      },
      "source": [
        "# PART 1: QUICK DATA CHECK"
      ]
    },
    {
      "cell_type": "code",
      "execution_count": null,
      "id": "7a93192b",
      "metadata": {
        "id": "7a93192b",
        "colab": {
          "base_uri": "https://localhost:8080/"
        },
        "outputId": "4a179e2c-b0ad-4811-9676-feaef6512554"
      },
      "outputs": [
        {
          "output_type": "stream",
          "name": "stdout",
          "text": [
            "<class 'pandas.core.frame.DataFrame'>\n",
            "RangeIndex: 7043 entries, 0 to 7042\n",
            "Data columns (total 21 columns):\n",
            " #   Column            Non-Null Count  Dtype  \n",
            "---  ------            --------------  -----  \n",
            " 0   customerID        7043 non-null   object \n",
            " 1   gender            7043 non-null   object \n",
            " 2   SeniorCitizen     7043 non-null   int64  \n",
            " 3   Partner           7043 non-null   object \n",
            " 4   Dependents        7043 non-null   object \n",
            " 5   tenure            7043 non-null   int64  \n",
            " 6   PhoneService      7043 non-null   object \n",
            " 7   MultipleLines     7043 non-null   object \n",
            " 8   InternetService   7043 non-null   object \n",
            " 9   OnlineSecurity    7043 non-null   object \n",
            " 10  OnlineBackup      7043 non-null   object \n",
            " 11  DeviceProtection  7043 non-null   object \n",
            " 12  TechSupport       7043 non-null   object \n",
            " 13  StreamingTV       7043 non-null   object \n",
            " 14  StreamingMovies   7043 non-null   object \n",
            " 15  Contract          7043 non-null   object \n",
            " 16  PaperlessBilling  7043 non-null   object \n",
            " 17  PaymentMethod     7043 non-null   object \n",
            " 18  MonthlyCharges    7043 non-null   float64\n",
            " 19  TotalCharges      7043 non-null   object \n",
            " 20  Churn             7043 non-null   object \n",
            "dtypes: float64(1), int64(2), object(18)\n",
            "memory usage: 1.1+ MB\n"
          ]
        }
      ],
      "source": [
        "##Check data types using info() function \n",
        "df.info()\n",
        "## What problem have you observed? -> fix it"
      ]
    },
    {
      "cell_type": "markdown",
      "source": [
        "Ở cột TotalCharges, giá trị trả về ở dạng float nhưng kiểu dữ liệu ở đây đang là object. Do đó, cách giải quyết là chúng ta phải chuyển kiểu dữ liệu của cột TotalCharges: từ kiểu dữ liệu object sang float bằng câu lệnh pd.to_numeric()     "
      ],
      "metadata": {
        "id": "qPXDfZt7-9nM"
      },
      "id": "qPXDfZt7-9nM"
    },
    {
      "cell_type": "code",
      "source": [
        "df['TotalCharges'] = pd.to_numeric(df['TotalCharges'], errors='coerce')"
      ],
      "metadata": {
        "id": "fkVD6oIs-oew"
      },
      "id": "fkVD6oIs-oew",
      "execution_count": null,
      "outputs": []
    },
    {
      "cell_type": "code",
      "execution_count": null,
      "id": "5e66a9a3",
      "metadata": {
        "id": "5e66a9a3",
        "colab": {
          "base_uri": "https://localhost:8080/",
          "height": 300
        },
        "outputId": "0fbb0219-cf61-4fbd-ebf4-70a33009d102"
      },
      "outputs": [
        {
          "output_type": "execute_result",
          "data": {
            "text/plain": [
              "       SeniorCitizen       tenure  MonthlyCharges  TotalCharges\n",
              "count    7043.000000  7043.000000     7043.000000   7032.000000\n",
              "mean        0.162147    32.371149       64.761692   2283.300441\n",
              "std         0.368612    24.559481       30.090047   2266.771362\n",
              "min         0.000000     0.000000       18.250000     18.800000\n",
              "25%         0.000000     9.000000       35.500000    401.450000\n",
              "50%         0.000000    29.000000       70.350000   1397.475000\n",
              "75%         0.000000    55.000000       89.850000   3794.737500\n",
              "max         1.000000    72.000000      118.750000   8684.800000"
            ],
            "text/html": [
              "\n",
              "  <div id=\"df-3305b5a3-8809-4292-82f5-c6f0e3d66704\">\n",
              "    <div class=\"colab-df-container\">\n",
              "      <div>\n",
              "<style scoped>\n",
              "    .dataframe tbody tr th:only-of-type {\n",
              "        vertical-align: middle;\n",
              "    }\n",
              "\n",
              "    .dataframe tbody tr th {\n",
              "        vertical-align: top;\n",
              "    }\n",
              "\n",
              "    .dataframe thead th {\n",
              "        text-align: right;\n",
              "    }\n",
              "</style>\n",
              "<table border=\"1\" class=\"dataframe\">\n",
              "  <thead>\n",
              "    <tr style=\"text-align: right;\">\n",
              "      <th></th>\n",
              "      <th>SeniorCitizen</th>\n",
              "      <th>tenure</th>\n",
              "      <th>MonthlyCharges</th>\n",
              "      <th>TotalCharges</th>\n",
              "    </tr>\n",
              "  </thead>\n",
              "  <tbody>\n",
              "    <tr>\n",
              "      <th>count</th>\n",
              "      <td>7043.000000</td>\n",
              "      <td>7043.000000</td>\n",
              "      <td>7043.000000</td>\n",
              "      <td>7032.000000</td>\n",
              "    </tr>\n",
              "    <tr>\n",
              "      <th>mean</th>\n",
              "      <td>0.162147</td>\n",
              "      <td>32.371149</td>\n",
              "      <td>64.761692</td>\n",
              "      <td>2283.300441</td>\n",
              "    </tr>\n",
              "    <tr>\n",
              "      <th>std</th>\n",
              "      <td>0.368612</td>\n",
              "      <td>24.559481</td>\n",
              "      <td>30.090047</td>\n",
              "      <td>2266.771362</td>\n",
              "    </tr>\n",
              "    <tr>\n",
              "      <th>min</th>\n",
              "      <td>0.000000</td>\n",
              "      <td>0.000000</td>\n",
              "      <td>18.250000</td>\n",
              "      <td>18.800000</td>\n",
              "    </tr>\n",
              "    <tr>\n",
              "      <th>25%</th>\n",
              "      <td>0.000000</td>\n",
              "      <td>9.000000</td>\n",
              "      <td>35.500000</td>\n",
              "      <td>401.450000</td>\n",
              "    </tr>\n",
              "    <tr>\n",
              "      <th>50%</th>\n",
              "      <td>0.000000</td>\n",
              "      <td>29.000000</td>\n",
              "      <td>70.350000</td>\n",
              "      <td>1397.475000</td>\n",
              "    </tr>\n",
              "    <tr>\n",
              "      <th>75%</th>\n",
              "      <td>0.000000</td>\n",
              "      <td>55.000000</td>\n",
              "      <td>89.850000</td>\n",
              "      <td>3794.737500</td>\n",
              "    </tr>\n",
              "    <tr>\n",
              "      <th>max</th>\n",
              "      <td>1.000000</td>\n",
              "      <td>72.000000</td>\n",
              "      <td>118.750000</td>\n",
              "      <td>8684.800000</td>\n",
              "    </tr>\n",
              "  </tbody>\n",
              "</table>\n",
              "</div>\n",
              "      <button class=\"colab-df-convert\" onclick=\"convertToInteractive('df-3305b5a3-8809-4292-82f5-c6f0e3d66704')\"\n",
              "              title=\"Convert this dataframe to an interactive table.\"\n",
              "              style=\"display:none;\">\n",
              "        \n",
              "  <svg xmlns=\"http://www.w3.org/2000/svg\" height=\"24px\"viewBox=\"0 0 24 24\"\n",
              "       width=\"24px\">\n",
              "    <path d=\"M0 0h24v24H0V0z\" fill=\"none\"/>\n",
              "    <path d=\"M18.56 5.44l.94 2.06.94-2.06 2.06-.94-2.06-.94-.94-2.06-.94 2.06-2.06.94zm-11 1L8.5 8.5l.94-2.06 2.06-.94-2.06-.94L8.5 2.5l-.94 2.06-2.06.94zm10 10l.94 2.06.94-2.06 2.06-.94-2.06-.94-.94-2.06-.94 2.06-2.06.94z\"/><path d=\"M17.41 7.96l-1.37-1.37c-.4-.4-.92-.59-1.43-.59-.52 0-1.04.2-1.43.59L10.3 9.45l-7.72 7.72c-.78.78-.78 2.05 0 2.83L4 21.41c.39.39.9.59 1.41.59.51 0 1.02-.2 1.41-.59l7.78-7.78 2.81-2.81c.8-.78.8-2.07 0-2.86zM5.41 20L4 18.59l7.72-7.72 1.47 1.35L5.41 20z\"/>\n",
              "  </svg>\n",
              "      </button>\n",
              "      \n",
              "  <style>\n",
              "    .colab-df-container {\n",
              "      display:flex;\n",
              "      flex-wrap:wrap;\n",
              "      gap: 12px;\n",
              "    }\n",
              "\n",
              "    .colab-df-convert {\n",
              "      background-color: #E8F0FE;\n",
              "      border: none;\n",
              "      border-radius: 50%;\n",
              "      cursor: pointer;\n",
              "      display: none;\n",
              "      fill: #1967D2;\n",
              "      height: 32px;\n",
              "      padding: 0 0 0 0;\n",
              "      width: 32px;\n",
              "    }\n",
              "\n",
              "    .colab-df-convert:hover {\n",
              "      background-color: #E2EBFA;\n",
              "      box-shadow: 0px 1px 2px rgba(60, 64, 67, 0.3), 0px 1px 3px 1px rgba(60, 64, 67, 0.15);\n",
              "      fill: #174EA6;\n",
              "    }\n",
              "\n",
              "    [theme=dark] .colab-df-convert {\n",
              "      background-color: #3B4455;\n",
              "      fill: #D2E3FC;\n",
              "    }\n",
              "\n",
              "    [theme=dark] .colab-df-convert:hover {\n",
              "      background-color: #434B5C;\n",
              "      box-shadow: 0px 1px 3px 1px rgba(0, 0, 0, 0.15);\n",
              "      filter: drop-shadow(0px 1px 2px rgba(0, 0, 0, 0.3));\n",
              "      fill: #FFFFFF;\n",
              "    }\n",
              "  </style>\n",
              "\n",
              "      <script>\n",
              "        const buttonEl =\n",
              "          document.querySelector('#df-3305b5a3-8809-4292-82f5-c6f0e3d66704 button.colab-df-convert');\n",
              "        buttonEl.style.display =\n",
              "          google.colab.kernel.accessAllowed ? 'block' : 'none';\n",
              "\n",
              "        async function convertToInteractive(key) {\n",
              "          const element = document.querySelector('#df-3305b5a3-8809-4292-82f5-c6f0e3d66704');\n",
              "          const dataTable =\n",
              "            await google.colab.kernel.invokeFunction('convertToInteractive',\n",
              "                                                     [key], {});\n",
              "          if (!dataTable) return;\n",
              "\n",
              "          const docLinkHtml = 'Like what you see? Visit the ' +\n",
              "            '<a target=\"_blank\" href=https://colab.research.google.com/notebooks/data_table.ipynb>data table notebook</a>'\n",
              "            + ' to learn more about interactive tables.';\n",
              "          element.innerHTML = '';\n",
              "          dataTable['output_type'] = 'display_data';\n",
              "          await google.colab.output.renderOutput(dataTable, element);\n",
              "          const docLink = document.createElement('div');\n",
              "          docLink.innerHTML = docLinkHtml;\n",
              "          element.appendChild(docLink);\n",
              "        }\n",
              "      </script>\n",
              "    </div>\n",
              "  </div>\n",
              "  "
            ]
          },
          "metadata": {},
          "execution_count": 14
        }
      ],
      "source": [
        "##Check statistical information using describe()\n",
        "df.describe()\n",
        "##Make some conclusions "
      ]
    },
    {
      "cell_type": "markdown",
      "source": [
        "Số tháng mà khách hàng đã ở lại công ty cao nhất là 72 tháng và ít nhất là 1 tháng. Tổng chi tiêu tối đa của khách hàng lên đến 8684.8. Trong khi đó, chi tiêu tối đa cho một tháng của khách hàng là 118.75."
      ],
      "metadata": {
        "id": "IpOkADQi9Hcj"
      },
      "id": "IpOkADQi9Hcj"
    },
    {
      "cell_type": "code",
      "execution_count": null,
      "id": "b7810a7a",
      "metadata": {
        "id": "b7810a7a",
        "colab": {
          "base_uri": "https://localhost:8080/"
        },
        "outputId": "0c7241d6-23ea-456e-ede2-e1fe18850cb4"
      },
      "outputs": [
        {
          "output_type": "execute_result",
          "data": {
            "text/plain": [
              "customerID           0\n",
              "gender               0\n",
              "SeniorCitizen        0\n",
              "Partner              0\n",
              "Dependents           0\n",
              "tenure               0\n",
              "PhoneService         0\n",
              "MultipleLines        0\n",
              "InternetService      0\n",
              "OnlineSecurity       0\n",
              "OnlineBackup         0\n",
              "DeviceProtection     0\n",
              "TechSupport          0\n",
              "StreamingTV          0\n",
              "StreamingMovies      0\n",
              "Contract             0\n",
              "PaperlessBilling     0\n",
              "PaymentMethod        0\n",
              "MonthlyCharges       0\n",
              "TotalCharges        11\n",
              "Churn                0\n",
              "dtype: int64"
            ]
          },
          "metadata": {},
          "execution_count": 15
        }
      ],
      "source": [
        "###Check for null values in our data and decide how to handle null-value\n",
        "df.isnull().sum()"
      ]
    },
    {
      "cell_type": "markdown",
      "source": [
        "Từ đầu ra trên, chúng ta có thể nói rằng có **11 giá trị còn thiếu** ở cột TotalCharges. Cách giải quyết ở đây là chúng ta sẽ loại bỏ 11 hàng này khỏi tập dữ liệu bằng lệnh dropna()"
      ],
      "metadata": {
        "id": "W1hbaPdG__Dv"
      },
      "id": "W1hbaPdG__Dv"
    },
    {
      "cell_type": "code",
      "source": [
        "#Removing missing values \n",
        "df.dropna(inplace = True)"
      ],
      "metadata": {
        "id": "nDvwVnh2_-hW"
      },
      "id": "nDvwVnh2_-hW",
      "execution_count": null,
      "outputs": []
    },
    {
      "cell_type": "code",
      "source": [
        "df.isnull().sum()"
      ],
      "metadata": {
        "colab": {
          "base_uri": "https://localhost:8080/"
        },
        "id": "V0T0ITVSC7Qe",
        "outputId": "fe53c223-1f57-48dc-ebe9-5a2dbfffe39b"
      },
      "id": "V0T0ITVSC7Qe",
      "execution_count": null,
      "outputs": [
        {
          "output_type": "execute_result",
          "data": {
            "text/plain": [
              "customerID          0\n",
              "gender              0\n",
              "SeniorCitizen       0\n",
              "Partner             0\n",
              "Dependents          0\n",
              "tenure              0\n",
              "PhoneService        0\n",
              "MultipleLines       0\n",
              "InternetService     0\n",
              "OnlineSecurity      0\n",
              "OnlineBackup        0\n",
              "DeviceProtection    0\n",
              "TechSupport         0\n",
              "StreamingTV         0\n",
              "StreamingMovies     0\n",
              "Contract            0\n",
              "PaperlessBilling    0\n",
              "PaymentMethod       0\n",
              "MonthlyCharges      0\n",
              "TotalCharges        0\n",
              "Churn               0\n",
              "dtype: int64"
            ]
          },
          "metadata": {},
          "execution_count": 17
        }
      ]
    },
    {
      "cell_type": "markdown",
      "id": "b351e2ea",
      "metadata": {
        "id": "b351e2ea"
      },
      "source": [
        "# PART 2: Exploratory Data Analysis"
      ]
    },
    {
      "cell_type": "code",
      "execution_count": null,
      "id": "56287b8f",
      "metadata": {
        "id": "56287b8f",
        "colab": {
          "base_uri": "https://localhost:8080/"
        },
        "outputId": "bb3604a9-1221-46ec-f839-301b6fe08bf0"
      },
      "outputs": [
        {
          "output_type": "execute_result",
          "data": {
            "text/plain": [
              "No     5163\n",
              "Yes    1869\n",
              "Name: Churn, dtype: int64"
            ]
          },
          "metadata": {},
          "execution_count": 18
        }
      ],
      "source": [
        "###Check the balance of class label using value_counts()\n",
        "df['Churn'].value_counts()"
      ]
    },
    {
      "cell_type": "code",
      "execution_count": null,
      "id": "953df01f",
      "metadata": {
        "id": "953df01f"
      },
      "outputs": [],
      "source": [
        "###Create a stacked percentage bar chart for each demographic attribute (gender, SeniorCitizen, Partner, Dependents), \n",
        "###showing the percentage of Churn for each category of the attribute\n",
        "###Draw a conclusion"
      ]
    },
    {
      "cell_type": "code",
      "source": [
        "import math"
      ],
      "metadata": {
        "id": "qU_Cw9V5H2W2"
      },
      "id": "qU_Cw9V5H2W2",
      "execution_count": null,
      "outputs": []
    },
    {
      "cell_type": "code",
      "source": [
        "def stacked_percentage_chart(columns_to_plot, super_title):    \n",
        "    n_columns = 2\n",
        "    n_rows = math.ceil(len(columns_to_plot)/2)\n",
        "    fig = plt.figure(figsize=(20, 5 * n_rows)) \n",
        "    fig.suptitle(super_title, fontsize=12,  y=.95)\n",
        " \n",
        "    for index, column in enumerate(columns_to_plot, 1):\n",
        "        ax = fig.add_subplot(n_rows, n_columns, index)\n",
        "        prop_by_independent = pd.crosstab(df[column], df['Churn']).apply(lambda x: x/x.sum()*100, axis=1)\n",
        "\n",
        "        prop_by_independent.plot(kind='bar', ax=ax, stacked=True,rot=0)\n",
        "        \n",
        "        ax.legend(loc=\"upper right\" , bbox_to_anchor=(0.62, 0.5, 0.5, 0.5),\n",
        "                  title='Churn', fancybox=True)\n",
        "\n",
        "        ax.set_title('Proportion of observations by ' + column, loc='left')\n",
        "        ax.tick_params(rotation='auto')\n",
        "\n",
        "        spine_names = ('top', 'right', 'bottom', 'left')\n",
        "        for spine_name in spine_names:\n",
        "            ax.spines[spine_name].set_visible(False)"
      ],
      "metadata": {
        "id": "VZ_x0Ql4GcIu"
      },
      "id": "VZ_x0Ql4GcIu",
      "execution_count": null,
      "outputs": []
    },
    {
      "cell_type": "code",
      "source": [
        "demographic = ['gender', 'SeniorCitizen', 'Partner', 'Dependents']"
      ],
      "metadata": {
        "id": "W1KpD91wHVzw"
      },
      "id": "W1KpD91wHVzw",
      "execution_count": null,
      "outputs": []
    },
    {
      "cell_type": "code",
      "source": [
        "stacked_percentage_chart(demographic, 'Demographic Information')"
      ],
      "metadata": {
        "colab": {
          "base_uri": "https://localhost:8080/",
          "height": 656
        },
        "id": "13coWJEmIjdd",
        "outputId": "ec99bf91-305b-4028-e4ae-bfd5297f4a45"
      },
      "id": "13coWJEmIjdd",
      "execution_count": null,
      "outputs": [
        {
          "output_type": "display_data",
          "data": {
            "text/plain": [
              "<Figure size 1440x720 with 4 Axes>"
            ],
            "image/png": "[encoded data removed]"
          },
          "metadata": {
            "needs_background": "light"
          }
        }
      ]
    },
    {
      "cell_type": "markdown",
      "source": [
        "* Tỷ lệ rời đi của những người cao tuổi (**senior citizens**) gần như gấp đôi so với những người trẻ tuổi (**young citizens**).\n",
        "\n",
        "* Giới tính không thể đóng một vai trò quan trọng trong dự đoán. Tỷ lệ churn là như nhau cho dù khách hàng là nam hay nữ.\n",
        "\n",
        "* Những khách hàng có đối tác ít rời đi hơn so với những khách hàng không có đối tác."
      ],
      "metadata": {
        "id": "n6cVMRxHJzLU"
      },
      "id": "n6cVMRxHJzLU"
    },
    {
      "cell_type": "code",
      "execution_count": null,
      "id": "86d1da4a",
      "metadata": {
        "id": "86d1da4a"
      },
      "outputs": [],
      "source": [
        "###Create a stacked percentage bar chart for each category of the customer account attributes \n",
        "###(Contract, PaperlessBilling, PaymentMethod).\n",
        "###Draw a conclusion"
      ]
    },
    {
      "cell_type": "code",
      "source": [
        "account_col = ['Contract', 'PaperlessBilling', 'PaymentMethod']"
      ],
      "metadata": {
        "id": "CWah0cLuIuW3"
      },
      "id": "CWah0cLuIuW3",
      "execution_count": null,
      "outputs": []
    },
    {
      "cell_type": "code",
      "source": [
        "stacked_percentage_chart(account_col, 'Account Information')"
      ],
      "metadata": {
        "colab": {
          "base_uri": "https://localhost:8080/",
          "height": 656
        },
        "id": "mnk96y9BI3id",
        "outputId": "afaeca17-7d33-4543-d29f-3d1f9abd6402"
      },
      "id": "mnk96y9BI3id",
      "execution_count": null,
      "outputs": [
        {
          "output_type": "display_data",
          "data": {
            "text/plain": [
              "<Figure size 1440x720 with 3 Axes>"
            ],
            "image/png": "[encoded data removed]"
          },
          "metadata": {
            "needs_background": "light"
          }
        }
      ]
    },
    {
      "cell_type": "markdown",
      "source": [
        "*   Khách hàng hợp đồng hàng tháng có tỷ lệ nghỉ việc cao hơn so với khách hàng hợp đồng hàng năm.\n",
        "* Những khách hàng thanh toán bằng séc điện tử có nhiều khả năng từ bỏ công ty hơn.\n",
        "* Những người đăng ký thanh toán không cần giấy tờ có tỷ lệ cao hơn những người không đăng ký.\n",
        "\n",
        "\n",
        "\n"
      ],
      "metadata": {
        "id": "tiP9xH3wmTAe"
      },
      "id": "tiP9xH3wmTAe"
    },
    {
      "cell_type": "code",
      "execution_count": null,
      "id": "4fb5cb7f",
      "metadata": {
        "id": "4fb5cb7f"
      },
      "outputs": [],
      "source": [
        "#### For all numeric attributes, the distributions of both classes (No and Yes) are different which suggests \n",
        "###that all of the attributes will be useful to determine whether or not a customer churns.\n",
        "### Create a plot to show the distribution of tenure, MontlyCharges, TotalCharges by Churn \n",
        "### Draw a conclusion"
      ]
    },
    {
      "cell_type": "code",
      "source": [
        "for i in ['tenure', 'MonthlyCharges', 'TotalCharges']:\n",
        "  ax = df[i].plot.hist(by = 'churn')\n",
        "  ax.set_title(f'Distribution of {i} by Churn')\n",
        "  plt.show()"
      ],
      "metadata": {
        "colab": {
          "base_uri": "https://localhost:8080/",
          "height": 809
        },
        "id": "77YcFzfZNpcV",
        "outputId": "7651a7da-c748-44d4-855a-6d0bc01f4bc6"
      },
      "id": "77YcFzfZNpcV",
      "execution_count": null,
      "outputs": [
        {
          "output_type": "display_data",
          "data": {
            "text/plain": [
              "<Figure size 432x288 with 1 Axes>"
            ],
            "image/png": "[encoded data removed]"
          },
          "metadata": {
            "needs_background": "light"
          }
        },
        {
          "output_type": "display_data",
          "data": {
            "text/plain": [
              "<Figure size 432x288 with 1 Axes>"
            ],
            "image/png": "[encoded data removed]"
          },
          "metadata": {
            "needs_background": "light"
          }
        },
        {
          "output_type": "display_data",
          "data": {
            "text/plain": [
              "<Figure size 432x288 with 1 Axes>"
            ],
            "image/png": "[encoded data removed]"
          },
          "metadata": {
            "needs_background": "light"
          }
        }
      ]
    },
    {
      "cell_type": "markdown",
      "source": [
        "Cả 3 biến đều không theo quy luật phân phối chuẩn\n",
        "- tenure: đầu và cuối đồ thị lơn hơn hẳn so với trung tâm\n",
        "- MontlyCharges: tăng mạnh ở đầu, sau đó giảm và lại tăng trở lại \n",
        "- TotalCharges: càng về sau càng giảm"
      ],
      "metadata": {
        "id": "z8be1giQNzmk"
      },
      "id": "z8be1giQNzmk"
    },
    {
      "cell_type": "code",
      "source": [
        "def hist_plot(columns_to_plot, super_title):\n",
        "    n_columns = 2\n",
        "    n_rows = math.ceil(len(columns_to_plot)/2)\n",
        "    fig = plt.figure(figsize=(12, 5 * n_rows)) \n",
        "    fig.suptitle(super_title, fontsize=22,  y=.95)\n",
        " \n",
        "    for index, column in enumerate(columns_to_plot, 1):\n",
        "        ax = fig.add_subplot(n_rows, n_columns, index)\n",
        "        df[df['Churn']=='No'][column].plot(kind='hist', ax=ax, density=True, \n",
        "                                                       alpha=0.5, label='No')\n",
        "        df[df['Churn']=='Yes'][column].plot(kind='hist', ax=ax, density=True,\n",
        "                                                        alpha=0.5, label='Yes')\n",
        "        \n",
        "        ax.legend(loc=\"upper right\", bbox_to_anchor=(0.5, 0.5, 0.5, 0.5),\n",
        "                  title='Churn', fancybox=True)\n",
        "        ax.set_title('Distribution of ' + column + ' by churn',\n",
        "                     fontsize=16, loc='left')\n",
        "        ax.tick_params(rotation='auto')\n",
        "        spine_names = ('top', 'right', 'bottom', 'left')\n",
        "        for spine_name in spine_names:\n",
        "            ax.spines[spine_name].set_visible(False)"
      ],
      "metadata": {
        "id": "udDc-V2sP28d"
      },
      "id": "udDc-V2sP28d",
      "execution_count": null,
      "outputs": []
    },
    {
      "cell_type": "code",
      "source": [
        "# customer account column names\n",
        "numeric_account_col = ['tenure', 'MonthlyCharges', 'TotalCharges']\n",
        "hist_plot(numeric_account_col, 'Distribution of tenure, MontlyCharges, TotalCharges by Churnn')"
      ],
      "metadata": {
        "colab": {
          "base_uri": "https://localhost:8080/",
          "height": 642
        },
        "id": "3zvzQ48oQABa",
        "outputId": "458ff7d6-16bf-40ee-b34b-e7237a5df1e1"
      },
      "id": "3zvzQ48oQABa",
      "execution_count": null,
      "outputs": [
        {
          "output_type": "display_data",
          "data": {
            "text/plain": [
              "<Figure size 864x720 with 3 Axes>"
            ],
            "image/png": "[encoded data removed]"
          },
          "metadata": {
            "needs_background": "light"
          }
        }
      ]
    },
    {
      "cell_type": "markdown",
      "source": [
        "* Tỷ lệ churn có xu hướng lớn hơn khi phí hàng tháng (**monthly charge**) cao.\n",
        "* Khách hàng mới (low **tenure**) có nhiều khả năng rời đi.\n",
        "* Những khách hàng phải chịu tổng chi phí (**total charge**) cao  sẽ ít có xu hướng rời bỏ doanh nghiệp hơn."
      ],
      "metadata": {
        "id": "GCurUY6emsJ2"
      },
      "id": "GCurUY6emsJ2"
    },
    {
      "cell_type": "code",
      "execution_count": null,
      "id": "fc128605",
      "metadata": {
        "id": "fc128605"
      },
      "outputs": [],
      "source": [
        "###evaluate the percentage of the target for each category of the services columns(PhoneService, MultipleLines, InternetService\n",
        "###,OnlineSecurity,OnlineBackup, DeviceProtection,TechSupport,StreamingTV, StreamingMovie) with stacked bar plots\n",
        "### Draw a conclusion"
      ]
    },
    {
      "cell_type": "code",
      "source": [
        "service_col = ['PhoneService', 'MultipleLines', 'InternetService', 'OnlineSecurity', \n",
        "               'OnlineBackup', 'DeviceProtection','TechSupport','StreamingTV', 'StreamingMovies']"
      ],
      "metadata": {
        "id": "lLGhShZdMlGW"
      },
      "id": "lLGhShZdMlGW",
      "execution_count": null,
      "outputs": []
    },
    {
      "cell_type": "code",
      "source": [
        "stacked_percentage_chart(service_col, 'Services Information')"
      ],
      "metadata": {
        "colab": {
          "base_uri": "https://localhost:8080/",
          "height": 1000
        },
        "id": "mRb2S-PjM11v",
        "outputId": "657fb025-685b-4b5b-b78e-11edbd0fdc83"
      },
      "id": "mRb2S-PjM11v",
      "execution_count": null,
      "outputs": [
        {
          "output_type": "display_data",
          "data": {
            "text/plain": [
              "<Figure size 1440x1800 with 9 Axes>"
            ],
            "image/png": "[encoded data removed]"
          },
          "metadata": {
            "needs_background": "light"
          }
        }
      ]
    },
    {
      "cell_type": "markdown",
      "source": [
        "* Chúng tôi không mong đợi các thuộc tính điện thoại (**PhoneService và MultipleLines**) có sức mạnh dự đoán đáng kể. Tỷ lệ churn cho tất cả các lớp trong cả hai biến độc lập là gần như nhau.\n",
        "* Những khách hàng có bảo mật trực tuyến (**online security**) ít gặp sự cố hơn những khách hàng không có nó.\n",
        "* Những khách hàng không có quyền tiếp cận với bộ phận hỗ trợ kỹ thuật (**tech support**) thường bỏ cuộc nhiều hơn những khách hàng có.\n",
        "\n",
        "\n"
      ],
      "metadata": {
        "id": "bbeqwJuBNGl3"
      },
      "id": "bbeqwJuBNGl3"
    },
    {
      "cell_type": "markdown",
      "id": "ce3e7da9",
      "metadata": {
        "id": "ce3e7da9"
      },
      "source": [
        "# PART 3: FEATURE ENGINEERING"
      ]
    },
    {
      "cell_type": "code",
      "source": [
        "### Use label encoding with the following binary variables: (1) gender, (2) Partner, (3) Dependents, (4)PaperlessBilling, \n",
        "###(5)PhoneService , and (6)Churn .\n",
        "\n",
        "### make a copy of your dataframe\n",
        "df_transformed = df.copy()\n",
        "df_transformed.drop(columns='customerID',inplace=True)\n",
        "\n",
        "# label encoding (binary variables)\n",
        "label_encoding_columns = ['gender', 'Partner', 'Dependents', 'PaperlessBilling',\n",
        "                          'PhoneService', 'Churn']\n",
        "\n",
        "# encode categorical binary features using label encoding\n",
        "for i in label_encoding_columns:\n",
        "    if i == 'gender':\n",
        "        df_transformed[i] = df_transformed[i].map({'Female': 1, 'Male': 0})\n",
        "    else: \n",
        "        df_transformed[i] = df_transformed[i].map({'Yes': 1, 'No': 0}) "
      ],
      "metadata": {
        "id": "-qWinHQ6RYvA"
      },
      "id": "-qWinHQ6RYvA",
      "execution_count": null,
      "outputs": []
    },
    {
      "cell_type": "code",
      "source": [
        "### Apply one-hot encoding to the following categorical variables: (1) Contract, (2) PaymentMethod, (3) MultipleLines, \n",
        "### (4) InternetServices, (5) OnlineSecurity, (6) OnlineBackup, (7) DeviceProtection, (8) TechSupport, (9) StreamingTV,\n",
        "### and (10)StreamingMovies.\n",
        "# one-hot encoding (categorical variables with more than two levels)\n",
        "one_hot_encoding_columns = ['MultipleLines', 'InternetService', 'OnlineSecurity', 'OnlineBackup', 'DeviceProtection', \n",
        "                            'TechSupport', 'StreamingTV',  'StreamingMovies', 'Contract', 'PaymentMethod']\n",
        "\n",
        "# encode categorical variables with more than two levels using one-hot encoding\n",
        "\n",
        "df_transformed = pd.get_dummies(df_transformed, columns = one_hot_encoding_columns)"
      ],
      "metadata": {
        "id": "ooHY4utYRso3"
      },
      "id": "ooHY4utYRso3",
      "execution_count": null,
      "outputs": []
    },
    {
      "cell_type": "code",
      "execution_count": null,
      "id": "ca55b316",
      "metadata": {
        "id": "ca55b316"
      },
      "outputs": [],
      "source": [
        "### Normalization\n",
        "### Use the min-max method to rescale the numeric columns (tenure, MontlyCharges, and TotalCharges) to a common scale\n",
        "# min-max normalization (numeric variables)\n",
        "min_max_columns = ['tenure', 'MonthlyCharges', 'TotalCharges']\n",
        "\n",
        "# scale numerical variables using min max scaler\n",
        "for i in min_max_columns:\n",
        "        min_col = df_transformed[i].min()\n",
        "        max_col = df_transformed[i].max()\n",
        "        df_transformed[i] = (df_transformed[i] - min_col) / (max_col - min_col) "
      ]
    },
    {
      "cell_type": "markdown",
      "id": "abe9aa6c",
      "metadata": {
        "id": "abe9aa6c"
      },
      "source": [
        "# PART 4: MODELING"
      ]
    },
    {
      "cell_type": "markdown",
      "id": "5ea27a9e",
      "metadata": {
        "id": "5ea27a9e"
      },
      "source": [
        "In this project, we compare 3 different algorithms: RandomForest, ANN Model and Gradient Boosting Decision Tree"
      ]
    },
    {
      "cell_type": "code",
      "execution_count": null,
      "id": "245b96dd",
      "metadata": {
        "id": "245b96dd",
        "colab": {
          "base_uri": "https://localhost:8080/"
        },
        "outputId": "b10acb3e-22f6-4bc9-bea3-74bc58a3a221"
      },
      "outputs": [
        {
          "output_type": "stream",
          "name": "stdout",
          "text": [
            "Index(['gender', 'SeniorCitizen', 'Partner', 'Dependents', 'tenure',\n",
            "       'PhoneService', 'PaperlessBilling', 'MonthlyCharges', 'TotalCharges',\n",
            "       'MultipleLines_No', 'MultipleLines_No phone service',\n",
            "       'MultipleLines_Yes', 'InternetService_DSL',\n",
            "       'InternetService_Fiber optic', 'InternetService_No',\n",
            "       'OnlineSecurity_No', 'OnlineSecurity_No internet service',\n",
            "       'OnlineSecurity_Yes', 'OnlineBackup_No',\n",
            "       'OnlineBackup_No internet service', 'OnlineBackup_Yes',\n",
            "       'DeviceProtection_No', 'DeviceProtection_No internet service',\n",
            "       'DeviceProtection_Yes', 'TechSupport_No',\n",
            "       'TechSupport_No internet service', 'TechSupport_Yes', 'StreamingTV_No',\n",
            "       'StreamingTV_No internet service', 'StreamingTV_Yes',\n",
            "       'StreamingMovies_No', 'StreamingMovies_No internet service',\n",
            "       'StreamingMovies_Yes', 'Contract_Month-to-month', 'Contract_One year',\n",
            "       'Contract_Two year', 'PaymentMethod_Bank transfer (automatic)',\n",
            "       'PaymentMethod_Credit card (automatic)',\n",
            "       'PaymentMethod_Electronic check', 'PaymentMethod_Mailed check'],\n",
            "      dtype='object')\n",
            "Churn\n"
          ]
        }
      ],
      "source": [
        "#train test split: 70% of the sample set for training, 30% for testing \n",
        "from sklearn.model_selection import train_test_split\n",
        "# select independent variables\n",
        "X = df_transformed.drop(columns = ['Churn'])\n",
        "\n",
        "# select dependent variables\n",
        "y = df_transformed.loc[:, 'Churn']\n",
        "\n",
        "# prove that the variables were selected correctly\n",
        "print(X.columns)\n",
        "\n",
        "# prove that the variables were selected correctly\n",
        "print(y.name)\n",
        "X_train,X_test,y_train,y_test = train_test_split(X,y,test_size = 0.3, random_state = 40, stratify=y)"
      ]
    },
    {
      "cell_type": "code",
      "execution_count": null,
      "id": "38be742d",
      "metadata": {
        "id": "38be742d",
        "colab": {
          "base_uri": "https://localhost:8080/"
        },
        "outputId": "d6313ac3-acc3-448f-8002-c3b6d8ba60bf"
      },
      "outputs": [
        {
          "output_type": "stream",
          "name": "stdout",
          "text": [
            "Requirement already satisfied: tensorflow in /usr/local/lib/python3.7/dist-packages (2.8.0)\n",
            "Requirement already satisfied: astunparse>=1.6.0 in /usr/local/lib/python3.7/dist-packages (from tensorflow) (1.6.3)\n",
            "Requirement already satisfied: tensorboard<2.9,>=2.8 in /usr/local/lib/python3.7/dist-packages (from tensorflow) (2.8.0)\n",
            "Collecting tf-estimator-nightly==2.8.0.dev2021122109\n",
            "  Downloading tf_estimator_nightly-2.8.0.dev2021122109-py2.py3-none-any.whl (462 kB)\n",
            "\u001b[K     |████████████████████████████████| 462 kB 5.6 MB/s \n",
            "\u001b[?25hRequirement already satisfied: flatbuffers>=1.12 in /usr/local/lib/python3.7/dist-packages (from tensorflow) (2.0)\n",
            "Requirement already satisfied: keras-preprocessing>=1.1.1 in /usr/local/lib/python3.7/dist-packages (from tensorflow) (1.1.2)\n",
            "Requirement already satisfied: typing-extensions>=3.6.6 in /usr/local/lib/python3.7/dist-packages (from tensorflow) (4.2.0)\n",
            "Requirement already satisfied: six>=1.12.0 in /usr/local/lib/python3.7/dist-packages (from tensorflow) (1.15.0)\n",
            "Requirement already satisfied: h5py>=2.9.0 in /usr/local/lib/python3.7/dist-packages (from tensorflow) (3.1.0)\n",
            "Requirement already satisfied: absl-py>=0.4.0 in /usr/local/lib/python3.7/dist-packages (from tensorflow) (1.0.0)\n",
            "Requirement already satisfied: protobuf>=3.9.2 in /usr/local/lib/python3.7/dist-packages (from tensorflow) (3.17.3)\n",
            "Requirement already satisfied: google-pasta>=0.1.1 in /usr/local/lib/python3.7/dist-packages (from tensorflow) (0.2.0)\n",
            "Requirement already satisfied: gast>=0.2.1 in /usr/local/lib/python3.7/dist-packages (from tensorflow) (0.5.3)\n",
            "Requirement already satisfied: opt-einsum>=2.3.2 in /usr/local/lib/python3.7/dist-packages (from tensorflow) (3.3.0)\n",
            "Requirement already satisfied: grpcio<2.0,>=1.24.3 in /usr/local/lib/python3.7/dist-packages (from tensorflow) (1.44.0)\n",
            "Requirement already satisfied: keras<2.9,>=2.8.0rc0 in /usr/local/lib/python3.7/dist-packages (from tensorflow) (2.8.0)\n",
            "Requirement already satisfied: numpy>=1.20 in /usr/local/lib/python3.7/dist-packages (from tensorflow) (1.21.6)\n",
            "Requirement already satisfied: wrapt>=1.11.0 in /usr/local/lib/python3.7/dist-packages (from tensorflow) (1.14.0)\n",
            "Requirement already satisfied: termcolor>=1.1.0 in /usr/local/lib/python3.7/dist-packages (from tensorflow) (1.1.0)\n",
            "Requirement already satisfied: libclang>=9.0.1 in /usr/local/lib/python3.7/dist-packages (from tensorflow) (13.0.0)\n",
            "Requirement already satisfied: tensorflow-io-gcs-filesystem>=0.23.1 in /usr/local/lib/python3.7/dist-packages (from tensorflow) (0.24.0)\n",
            "Requirement already satisfied: setuptools in /usr/local/lib/python3.7/dist-packages (from tensorflow) (57.4.0)\n",
            "Requirement already satisfied: wheel<1.0,>=0.23.0 in /usr/local/lib/python3.7/dist-packages (from astunparse>=1.6.0->tensorflow) (0.37.1)\n",
            "Requirement already satisfied: cached-property in /usr/local/lib/python3.7/dist-packages (from h5py>=2.9.0->tensorflow) (1.5.2)\n",
            "Requirement already satisfied: google-auth-oauthlib<0.5,>=0.4.1 in /usr/local/lib/python3.7/dist-packages (from tensorboard<2.9,>=2.8->tensorflow) (0.4.6)\n",
            "Requirement already satisfied: werkzeug>=0.11.15 in /usr/local/lib/python3.7/dist-packages (from tensorboard<2.9,>=2.8->tensorflow) (1.0.1)\n",
            "Requirement already satisfied: tensorboard-data-server<0.7.0,>=0.6.0 in /usr/local/lib/python3.7/dist-packages (from tensorboard<2.9,>=2.8->tensorflow) (0.6.1)\n",
            "Requirement already satisfied: tensorboard-plugin-wit>=1.6.0 in /usr/local/lib/python3.7/dist-packages (from tensorboard<2.9,>=2.8->tensorflow) (1.8.1)\n",
            "Requirement already satisfied: markdown>=2.6.8 in /usr/local/lib/python3.7/dist-packages (from tensorboard<2.9,>=2.8->tensorflow) (3.3.6)\n",
            "Requirement already satisfied: requests<3,>=2.21.0 in /usr/local/lib/python3.7/dist-packages (from tensorboard<2.9,>=2.8->tensorflow) (2.23.0)\n",
            "Requirement already satisfied: google-auth<3,>=1.6.3 in /usr/local/lib/python3.7/dist-packages (from tensorboard<2.9,>=2.8->tensorflow) (1.35.0)\n",
            "Requirement already satisfied: rsa<5,>=3.1.4 in /usr/local/lib/python3.7/dist-packages (from google-auth<3,>=1.6.3->tensorboard<2.9,>=2.8->tensorflow) (4.8)\n",
            "Requirement already satisfied: cachetools<5.0,>=2.0.0 in /usr/local/lib/python3.7/dist-packages (from google-auth<3,>=1.6.3->tensorboard<2.9,>=2.8->tensorflow) (4.2.4)\n",
            "Requirement already satisfied: pyasn1-modules>=0.2.1 in /usr/local/lib/python3.7/dist-packages (from google-auth<3,>=1.6.3->tensorboard<2.9,>=2.8->tensorflow) (0.2.8)\n",
            "Requirement already satisfied: requests-oauthlib>=0.7.0 in /usr/local/lib/python3.7/dist-packages (from google-auth-oauthlib<0.5,>=0.4.1->tensorboard<2.9,>=2.8->tensorflow) (1.3.1)\n",
            "Requirement already satisfied: importlib-metadata>=4.4 in /usr/local/lib/python3.7/dist-packages (from markdown>=2.6.8->tensorboard<2.9,>=2.8->tensorflow) (4.11.3)\n",
            "Requirement already satisfied: zipp>=0.5 in /usr/local/lib/python3.7/dist-packages (from importlib-metadata>=4.4->markdown>=2.6.8->tensorboard<2.9,>=2.8->tensorflow) (3.8.0)\n",
            "Requirement already satisfied: pyasn1<0.5.0,>=0.4.6 in /usr/local/lib/python3.7/dist-packages (from pyasn1-modules>=0.2.1->google-auth<3,>=1.6.3->tensorboard<2.9,>=2.8->tensorflow) (0.4.8)\n",
            "Requirement already satisfied: idna<3,>=2.5 in /usr/local/lib/python3.7/dist-packages (from requests<3,>=2.21.0->tensorboard<2.9,>=2.8->tensorflow) (2.10)\n",
            "Requirement already satisfied: urllib3!=1.25.0,!=1.25.1,<1.26,>=1.21.1 in /usr/local/lib/python3.7/dist-packages (from requests<3,>=2.21.0->tensorboard<2.9,>=2.8->tensorflow) (1.24.3)\n",
            "Requirement already satisfied: chardet<4,>=3.0.2 in /usr/local/lib/python3.7/dist-packages (from requests<3,>=2.21.0->tensorboard<2.9,>=2.8->tensorflow) (3.0.4)\n",
            "Requirement already satisfied: certifi>=2017.4.17 in /usr/local/lib/python3.7/dist-packages (from requests<3,>=2.21.0->tensorboard<2.9,>=2.8->tensorflow) (2021.10.8)\n",
            "Requirement already satisfied: oauthlib>=3.0.0 in /usr/local/lib/python3.7/dist-packages (from requests-oauthlib>=0.7.0->google-auth-oauthlib<0.5,>=0.4.1->tensorboard<2.9,>=2.8->tensorflow) (3.2.0)\n",
            "Installing collected packages: tf-estimator-nightly\n",
            "Successfully installed tf-estimator-nightly-2.8.0.dev2021122109\n",
            "Requirement already satisfied: keras in /usr/local/lib/python3.7/dist-packages (2.8.0)\n"
          ]
        }
      ],
      "source": [
        "## For building ANN models in Python, we are going to use keras package, which\n",
        "## is a high-level neural networks library. Uncomment the following line to install tensorflow and keras packages\n",
        "!pip install tensorflow\n",
        "!pip install keras"
      ]
    },
    {
      "cell_type": "code",
      "execution_count": null,
      "id": "334e320c",
      "metadata": {
        "id": "334e320c"
      },
      "outputs": [],
      "source": [
        "###run this cell. This function will return a neural\n",
        "###network model with one hidden layer. \n",
        "### n is the number of features in training dataset \n",
        "from keras.models import Sequential\n",
        "from keras.layers import Dense\n",
        "def ANN(n):\n",
        "    model = Sequential()\n",
        "    model.add(Dense(16, input_dim=n, activation='relu'))\n",
        "    model.add(Dense(8, activation='relu'))\n",
        "    model.add(Dense(1, activation='sigmoid'))\n",
        "    model.compile(loss='binary_crossentropy', optimizer='adam', metrics=['accuracy'])\n",
        "    return model"
      ]
    },
    {
      "cell_type": "code",
      "execution_count": null,
      "id": "e3509c24",
      "metadata": {
        "id": "e3509c24"
      },
      "outputs": [],
      "source": [
        "from sklearn.ensemble import RandomForestClassifier\n",
        "from sklearn.ensemble import GradientBoostingClassifier\n",
        "### This function returns a list of algorithms we are going to assess\n",
        "def create_models(seed=2):\n",
        "    '''\n",
        "    Create a list of machine learning models.\n",
        "            Parameters:\n",
        "                    seed (integer): random seed of the models\n",
        "            Returns:\n",
        "                    models (list): list containing the models\n",
        "    '''\n",
        "    ### n: the number of features of X_train\n",
        "    n= X_train.shape[1]\n",
        "    models = []\n",
        "    models.append(('random_forest', RandomForestClassifier(random_state=seed)))\n",
        "    models.append(('gradient_boosting', GradientBoostingClassifier(random_state=seed)))\n",
        "    models.append(('ANN',ANN(n)))\n",
        "    return models\n",
        "\n",
        "# create a list of methods\n",
        "models = create_models()"
      ]
    },
    {
      "cell_type": "code",
      "source": [
        "models"
      ],
      "metadata": {
        "colab": {
          "base_uri": "https://localhost:8080/"
        },
        "id": "wVDFEkeuWxwN",
        "outputId": "76249acb-6301-4d92-867b-fa715682f575"
      },
      "id": "wVDFEkeuWxwN",
      "execution_count": null,
      "outputs": [
        {
          "output_type": "execute_result",
          "data": {
            "text/plain": [
              "[('random_forest', RandomForestClassifier(random_state=2)),\n",
              " ('gradient_boosting', GradientBoostingClassifier(random_state=2)),\n",
              " ('ANN', <keras.engine.sequential.Sequential at 0x7f65b99b5cd0>)]"
            ]
          },
          "metadata": {},
          "execution_count": 41
        }
      ]
    },
    {
      "cell_type": "code",
      "source": [
        "X_train"
      ],
      "metadata": {
        "colab": {
          "base_uri": "https://localhost:8080/",
          "height": 522
        },
        "id": "4eMGzZdyXI3T",
        "outputId": "edb23d86-c22c-429f-9cef-8114bc8089a0"
      },
      "id": "4eMGzZdyXI3T",
      "execution_count": null,
      "outputs": [
        {
          "output_type": "execute_result",
          "data": {
            "text/plain": [
              "      gender  SeniorCitizen  Partner  Dependents    tenure  PhoneService  \\\n",
              "983        0              0        0           0  0.000000             1   \n",
              "6565       0              0        1           0  0.845070             1   \n",
              "2212       0              0        0           0  0.126761             1   \n",
              "2526       0              0        0           0  0.000000             1   \n",
              "2751       1              0        1           1  0.253521             0   \n",
              "...      ...            ...      ...         ...       ...           ...   \n",
              "768        0              0        0           0  0.563380             1   \n",
              "6532       1              1        0           0  0.239437             1   \n",
              "3528       0              0        0           0  0.211268             1   \n",
              "943        1              0        1           0  1.000000             0   \n",
              "256        1              0        1           1  0.845070             1   \n",
              "\n",
              "      PaperlessBilling  MonthlyCharges  TotalCharges  MultipleLines_No  ...  \\\n",
              "983                  1        0.680100      0.007824                 0  ...   \n",
              "6565                 1        0.875124      0.733487                 0  ...   \n",
              "2212                 0        0.012438      0.023892                 1  ...   \n",
              "2526                 0        0.011443      0.000069                 1  ...   \n",
              "2751                 1        0.065672      0.048004                 0  ...   \n",
              "...                ...             ...           ...               ...  ...   \n",
              "768                  1        0.557214      0.354293                 1  ...   \n",
              "6532                 0        0.020896      0.040480                 1  ...   \n",
              "3528                 1        0.014428      0.037341                 1  ...   \n",
              "943                  0        0.470149      0.565532                 0  ...   \n",
              "256                  0        0.963682      0.806526                 0  ...   \n",
              "\n",
              "      StreamingMovies_No  StreamingMovies_No internet service  \\\n",
              "983                    0                                    0   \n",
              "6565                   0                                    0   \n",
              "2212                   0                                    1   \n",
              "2526                   0                                    1   \n",
              "2751                   1                                    0   \n",
              "...                  ...                                  ...   \n",
              "768                    1                                    0   \n",
              "6532                   0                                    1   \n",
              "3528                   0                                    1   \n",
              "943                    0                                    0   \n",
              "256                    0                                    0   \n",
              "\n",
              "      StreamingMovies_Yes  Contract_Month-to-month  Contract_One year  \\\n",
              "983                     1                        1                  0   \n",
              "6565                    1                        1                  0   \n",
              "2212                    0                        0                  1   \n",
              "2526                    0                        1                  0   \n",
              "2751                    0                        1                  0   \n",
              "...                   ...                      ...                ...   \n",
              "768                     0                        1                  0   \n",
              "6532                    0                        0                  1   \n",
              "3528                    0                        1                  0   \n",
              "943                     1                        0                  0   \n",
              "256                     1                        0                  0   \n",
              "\n",
              "      Contract_Two year  PaymentMethod_Bank transfer (automatic)  \\\n",
              "983                   0                                        0   \n",
              "6565                  0                                        0   \n",
              "2212                  0                                        0   \n",
              "2526                  0                                        0   \n",
              "2751                  0                                        0   \n",
              "...                 ...                                      ...   \n",
              "768                   0                                        0   \n",
              "6532                  0                                        1   \n",
              "3528                  0                                        0   \n",
              "943                   1                                        1   \n",
              "256                   1                                        0   \n",
              "\n",
              "      PaymentMethod_Credit card (automatic)  PaymentMethod_Electronic check  \\\n",
              "983                                       0                               1   \n",
              "6565                                      0                               1   \n",
              "2212                                      0                               0   \n",
              "2526                                      0                               0   \n",
              "2751                                      0                               0   \n",
              "...                                     ...                             ...   \n",
              "768                                       0                               1   \n",
              "6532                                      0                               0   \n",
              "3528                                      0                               0   \n",
              "943                                       0                               0   \n",
              "256                                       1                               0   \n",
              "\n",
              "      PaymentMethod_Mailed check  \n",
              "983                            0  \n",
              "6565                           0  \n",
              "2212                           1  \n",
              "2526                           1  \n",
              "2751                           1  \n",
              "...                          ...  \n",
              "768                            0  \n",
              "6532                           0  \n",
              "3528                           1  \n",
              "943                            0  \n",
              "256                            0  \n",
              "\n",
              "[4922 rows x 40 columns]"
            ],
            "text/html": [
              "\n",
              "  <div id=\"df-00d55fbb-15f3-46d3-bf84-b0a9fe9bc9a9\">\n",
              "    <div class=\"colab-df-container\">\n",
              "      <div>\n",
              "<style scoped>\n",
              "    .dataframe tbody tr th:only-of-type {\n",
              "        vertical-align: middle;\n",
              "    }\n",
              "\n",
              "    .dataframe tbody tr th {\n",
              "        vertical-align: top;\n",
              "    }\n",
              "\n",
              "    .dataframe thead th {\n",
              "        text-align: right;\n",
              "    }\n",
              "</style>\n",
              "<table border=\"1\" class=\"dataframe\">\n",
              "  <thead>\n",
              "    <tr style=\"text-align: right;\">\n",
              "      <th></th>\n",
              "      <th>gender</th>\n",
              "      <th>SeniorCitizen</th>\n",
              "      <th>Partner</th>\n",
              "      <th>Dependents</th>\n",
              "      <th>tenure</th>\n",
              "      <th>PhoneService</th>\n",
              "      <th>PaperlessBilling</th>\n",
              "      <th>MonthlyCharges</th>\n",
              "      <th>TotalCharges</th>\n",
              "      <th>MultipleLines_No</th>\n",
              "      <th>...</th>\n",
              "      <th>StreamingMovies_No</th>\n",
              "      <th>StreamingMovies_No internet service</th>\n",
              "      <th>StreamingMovies_Yes</th>\n",
              "      <th>Contract_Month-to-month</th>\n",
              "      <th>Contract_One year</th>\n",
              "      <th>Contract_Two year</th>\n",
              "      <th>PaymentMethod_Bank transfer (automatic)</th>\n",
              "      <th>PaymentMethod_Credit card (automatic)</th>\n",
              "      <th>PaymentMethod_Electronic check</th>\n",
              "      <th>PaymentMethod_Mailed check</th>\n",
              "    </tr>\n",
              "  </thead>\n",
              "  <tbody>\n",
              "    <tr>\n",
              "      <th>983</th>\n",
              "      <td>0</td>\n",
              "      <td>0</td>\n",
              "      <td>0</td>\n",
              "      <td>0</td>\n",
              "      <td>0.000000</td>\n",
              "      <td>1</td>\n",
              "      <td>1</td>\n",
              "      <td>0.680100</td>\n",
              "      <td>0.007824</td>\n",
              "      <td>0</td>\n",
              "      <td>...</td>\n",
              "      <td>0</td>\n",
              "      <td>0</td>\n",
              "      <td>1</td>\n",
              "      <td>1</td>\n",
              "      <td>0</td>\n",
              "      <td>0</td>\n",
              "      <td>0</td>\n",
              "      <td>0</td>\n",
              "      <td>1</td>\n",
              "      <td>0</td>\n",
              "    </tr>\n",
              "    <tr>\n",
              "      <th>6565</th>\n",
              "      <td>0</td>\n",
              "      <td>0</td>\n",
              "      <td>1</td>\n",
              "      <td>0</td>\n",
              "      <td>0.845070</td>\n",
              "      <td>1</td>\n",
              "      <td>1</td>\n",
              "      <td>0.875124</td>\n",
              "      <td>0.733487</td>\n",
              "      <td>0</td>\n",
              "      <td>...</td>\n",
              "      <td>0</td>\n",
              "      <td>0</td>\n",
              "      <td>1</td>\n",
              "      <td>1</td>\n",
              "      <td>0</td>\n",
              "      <td>0</td>\n",
              "      <td>0</td>\n",
              "      <td>0</td>\n",
              "      <td>1</td>\n",
              "      <td>0</td>\n",
              "    </tr>\n",
              "    <tr>\n",
              "      <th>2212</th>\n",
              "      <td>0</td>\n",
              "      <td>0</td>\n",
              "      <td>0</td>\n",
              "      <td>0</td>\n",
              "      <td>0.126761</td>\n",
              "      <td>1</td>\n",
              "      <td>0</td>\n",
              "      <td>0.012438</td>\n",
              "      <td>0.023892</td>\n",
              "      <td>1</td>\n",
              "      <td>...</td>\n",
              "      <td>0</td>\n",
              "      <td>1</td>\n",
              "      <td>0</td>\n",
              "      <td>0</td>\n",
              "      <td>1</td>\n",
              "      <td>0</td>\n",
              "      <td>0</td>\n",
              "      <td>0</td>\n",
              "      <td>0</td>\n",
              "      <td>1</td>\n",
              "    </tr>\n",
              "    <tr>\n",
              "      <th>2526</th>\n",
              "      <td>0</td>\n",
              "      <td>0</td>\n",
              "      <td>0</td>\n",
              "      <td>0</td>\n",
              "      <td>0.000000</td>\n",
              "      <td>1</td>\n",
              "      <td>0</td>\n",
              "      <td>0.011443</td>\n",
              "      <td>0.000069</td>\n",
              "      <td>1</td>\n",
              "      <td>...</td>\n",
              "      <td>0</td>\n",
              "      <td>1</td>\n",
              "      <td>0</td>\n",
              "      <td>1</td>\n",
              "      <td>0</td>\n",
              "      <td>0</td>\n",
              "      <td>0</td>\n",
              "      <td>0</td>\n",
              "      <td>0</td>\n",
              "      <td>1</td>\n",
              "    </tr>\n",
              "    <tr>\n",
              "      <th>2751</th>\n",
              "      <td>1</td>\n",
              "      <td>0</td>\n",
              "      <td>1</td>\n",
              "      <td>1</td>\n",
              "      <td>0.253521</td>\n",
              "      <td>0</td>\n",
              "      <td>1</td>\n",
              "      <td>0.065672</td>\n",
              "      <td>0.048004</td>\n",
              "      <td>0</td>\n",
              "      <td>...</td>\n",
              "      <td>1</td>\n",
              "      <td>0</td>\n",
              "      <td>0</td>\n",
              "      <td>1</td>\n",
              "      <td>0</td>\n",
              "      <td>0</td>\n",
              "      <td>0</td>\n",
              "      <td>0</td>\n",
              "      <td>0</td>\n",
              "      <td>1</td>\n",
              "    </tr>\n",
              "    <tr>\n",
              "      <th>...</th>\n",
              "      <td>...</td>\n",
              "      <td>...</td>\n",
              "      <td>...</td>\n",
              "      <td>...</td>\n",
              "      <td>...</td>\n",
              "      <td>...</td>\n",
              "      <td>...</td>\n",
              "      <td>...</td>\n",
              "      <td>...</td>\n",
              "      <td>...</td>\n",
              "      <td>...</td>\n",
              "      <td>...</td>\n",
              "      <td>...</td>\n",
              "      <td>...</td>\n",
              "      <td>...</td>\n",
              "      <td>...</td>\n",
              "      <td>...</td>\n",
              "      <td>...</td>\n",
              "      <td>...</td>\n",
              "      <td>...</td>\n",
              "      <td>...</td>\n",
              "    </tr>\n",
              "    <tr>\n",
              "      <th>768</th>\n",
              "      <td>0</td>\n",
              "      <td>0</td>\n",
              "      <td>0</td>\n",
              "      <td>0</td>\n",
              "      <td>0.563380</td>\n",
              "      <td>1</td>\n",
              "      <td>1</td>\n",
              "      <td>0.557214</td>\n",
              "      <td>0.354293</td>\n",
              "      <td>1</td>\n",
              "      <td>...</td>\n",
              "      <td>1</td>\n",
              "      <td>0</td>\n",
              "      <td>0</td>\n",
              "      <td>1</td>\n",
              "      <td>0</td>\n",
              "      <td>0</td>\n",
              "      <td>0</td>\n",
              "      <td>0</td>\n",
              "      <td>1</td>\n",
              "      <td>0</td>\n",
              "    </tr>\n",
              "    <tr>\n",
              "      <th>6532</th>\n",
              "      <td>1</td>\n",
              "      <td>1</td>\n",
              "      <td>0</td>\n",
              "      <td>0</td>\n",
              "      <td>0.239437</td>\n",
              "      <td>1</td>\n",
              "      <td>0</td>\n",
              "      <td>0.020896</td>\n",
              "      <td>0.040480</td>\n",
              "      <td>1</td>\n",
              "      <td>...</td>\n",
              "      <td>0</td>\n",
              "      <td>1</td>\n",
              "      <td>0</td>\n",
              "      <td>0</td>\n",
              "      <td>1</td>\n",
              "      <td>0</td>\n",
              "      <td>1</td>\n",
              "      <td>0</td>\n",
              "      <td>0</td>\n",
              "      <td>0</td>\n",
              "    </tr>\n",
              "    <tr>\n",
              "      <th>3528</th>\n",
              "      <td>0</td>\n",
              "      <td>0</td>\n",
              "      <td>0</td>\n",
              "      <td>0</td>\n",
              "      <td>0.211268</td>\n",
              "      <td>1</td>\n",
              "      <td>1</td>\n",
              "      <td>0.014428</td>\n",
              "      <td>0.037341</td>\n",
              "      <td>1</td>\n",
              "      <td>...</td>\n",
              "      <td>0</td>\n",
              "      <td>1</td>\n",
              "      <td>0</td>\n",
              "      <td>1</td>\n",
              "      <td>0</td>\n",
              "      <td>0</td>\n",
              "      <td>0</td>\n",
              "      <td>0</td>\n",
              "      <td>0</td>\n",
              "      <td>1</td>\n",
              "    </tr>\n",
              "    <tr>\n",
              "      <th>943</th>\n",
              "      <td>1</td>\n",
              "      <td>0</td>\n",
              "      <td>1</td>\n",
              "      <td>0</td>\n",
              "      <td>1.000000</td>\n",
              "      <td>0</td>\n",
              "      <td>0</td>\n",
              "      <td>0.470149</td>\n",
              "      <td>0.565532</td>\n",
              "      <td>0</td>\n",
              "      <td>...</td>\n",
              "      <td>0</td>\n",
              "      <td>0</td>\n",
              "      <td>1</td>\n",
              "      <td>0</td>\n",
              "      <td>0</td>\n",
              "      <td>1</td>\n",
              "      <td>1</td>\n",
              "      <td>0</td>\n",
              "      <td>0</td>\n",
              "      <td>0</td>\n",
              "    </tr>\n",
              "    <tr>\n",
              "      <th>256</th>\n",
              "      <td>1</td>\n",
              "      <td>0</td>\n",
              "      <td>1</td>\n",
              "      <td>1</td>\n",
              "      <td>0.845070</td>\n",
              "      <td>1</td>\n",
              "      <td>0</td>\n",
              "      <td>0.963682</td>\n",
              "      <td>0.806526</td>\n",
              "      <td>0</td>\n",
              "      <td>...</td>\n",
              "      <td>0</td>\n",
              "      <td>0</td>\n",
              "      <td>1</td>\n",
              "      <td>0</td>\n",
              "      <td>0</td>\n",
              "      <td>1</td>\n",
              "      <td>0</td>\n",
              "      <td>1</td>\n",
              "      <td>0</td>\n",
              "      <td>0</td>\n",
              "    </tr>\n",
              "  </tbody>\n",
              "</table>\n",
              "<p>4922 rows × 40 columns</p>\n",
              "</div>\n",
              "      <button class=\"colab-df-convert\" onclick=\"convertToInteractive('df-00d55fbb-15f3-46d3-bf84-b0a9fe9bc9a9')\"\n",
              "              title=\"Convert this dataframe to an interactive table.\"\n",
              "              style=\"display:none;\">\n",
              "        \n",
              "  <svg xmlns=\"http://www.w3.org/2000/svg\" height=\"24px\"viewBox=\"0 0 24 24\"\n",
              "       width=\"24px\">\n",
              "    <path d=\"M0 0h24v24H0V0z\" fill=\"none\"/>\n",
              "    <path d=\"M18.56 5.44l.94 2.06.94-2.06 2.06-.94-2.06-.94-.94-2.06-.94 2.06-2.06.94zm-11 1L8.5 8.5l.94-2.06 2.06-.94-2.06-.94L8.5 2.5l-.94 2.06-2.06.94zm10 10l.94 2.06.94-2.06 2.06-.94-2.06-.94-.94-2.06-.94 2.06-2.06.94z\"/><path d=\"M17.41 7.96l-1.37-1.37c-.4-.4-.92-.59-1.43-.59-.52 0-1.04.2-1.43.59L10.3 9.45l-7.72 7.72c-.78.78-.78 2.05 0 2.83L4 21.41c.39.39.9.59 1.41.59.51 0 1.02-.2 1.41-.59l7.78-7.78 2.81-2.81c.8-.78.8-2.07 0-2.86zM5.41 20L4 18.59l7.72-7.72 1.47 1.35L5.41 20z\"/>\n",
              "  </svg>\n",
              "      </button>\n",
              "      \n",
              "  <style>\n",
              "    .colab-df-container {\n",
              "      display:flex;\n",
              "      flex-wrap:wrap;\n",
              "      gap: 12px;\n",
              "    }\n",
              "\n",
              "    .colab-df-convert {\n",
              "      background-color: #E8F0FE;\n",
              "      border: none;\n",
              "      border-radius: 50%;\n",
              "      cursor: pointer;\n",
              "      display: none;\n",
              "      fill: #1967D2;\n",
              "      height: 32px;\n",
              "      padding: 0 0 0 0;\n",
              "      width: 32px;\n",
              "    }\n",
              "\n",
              "    .colab-df-convert:hover {\n",
              "      background-color: #E2EBFA;\n",
              "      box-shadow: 0px 1px 2px rgba(60, 64, 67, 0.3), 0px 1px 3px 1px rgba(60, 64, 67, 0.15);\n",
              "      fill: #174EA6;\n",
              "    }\n",
              "\n",
              "    [theme=dark] .colab-df-convert {\n",
              "      background-color: #3B4455;\n",
              "      fill: #D2E3FC;\n",
              "    }\n",
              "\n",
              "    [theme=dark] .colab-df-convert:hover {\n",
              "      background-color: #434B5C;\n",
              "      box-shadow: 0px 1px 3px 1px rgba(0, 0, 0, 0.15);\n",
              "      filter: drop-shadow(0px 1px 2px rgba(0, 0, 0, 0.3));\n",
              "      fill: #FFFFFF;\n",
              "    }\n",
              "  </style>\n",
              "\n",
              "      <script>\n",
              "        const buttonEl =\n",
              "          document.querySelector('#df-00d55fbb-15f3-46d3-bf84-b0a9fe9bc9a9 button.colab-df-convert');\n",
              "        buttonEl.style.display =\n",
              "          google.colab.kernel.accessAllowed ? 'block' : 'none';\n",
              "\n",
              "        async function convertToInteractive(key) {\n",
              "          const element = document.querySelector('#df-00d55fbb-15f3-46d3-bf84-b0a9fe9bc9a9');\n",
              "          const dataTable =\n",
              "            await google.colab.kernel.invokeFunction('convertToInteractive',\n",
              "                                                     [key], {});\n",
              "          if (!dataTable) return;\n",
              "\n",
              "          const docLinkHtml = 'Like what you see? Visit the ' +\n",
              "            '<a target=\"_blank\" href=https://colab.research.google.com/notebooks/data_table.ipynb>data table notebook</a>'\n",
              "            + ' to learn more about interactive tables.';\n",
              "          element.innerHTML = '';\n",
              "          dataTable['output_type'] = 'display_data';\n",
              "          await google.colab.output.renderOutput(dataTable, element);\n",
              "          const docLink = document.createElement('div');\n",
              "          docLink.innerHTML = docLinkHtml;\n",
              "          element.appendChild(docLink);\n",
              "        }\n",
              "      </script>\n",
              "    </div>\n",
              "  </div>\n",
              "  "
            ]
          },
          "metadata": {},
          "execution_count": 42
        }
      ]
    },
    {
      "cell_type": "code",
      "execution_count": null,
      "id": "3517cd92",
      "metadata": {
        "id": "3517cd92",
        "colab": {
          "base_uri": "https://localhost:8080/"
        },
        "outputId": "759736dd-7291-4177-9923-226edbe2f9e6"
      },
      "outputs": [
        {
          "output_type": "stream",
          "name": "stdout",
          "text": [
            "Epoch 1/50\n",
            "50/50 [==============================] - 1s 5ms/step - loss: 0.5690 - accuracy: 0.7312\n",
            "Epoch 2/50\n",
            "50/50 [==============================] - 0s 4ms/step - loss: 0.4921 - accuracy: 0.7408\n",
            "Epoch 3/50\n",
            "50/50 [==============================] - 0s 4ms/step - loss: 0.4616 - accuracy: 0.7710\n",
            "Epoch 4/50\n",
            "50/50 [==============================] - 0s 3ms/step - loss: 0.4488 - accuracy: 0.7792\n",
            "Epoch 5/50\n",
            "50/50 [==============================] - 0s 4ms/step - loss: 0.4408 - accuracy: 0.7887\n",
            "Epoch 6/50\n",
            "50/50 [==============================] - 0s 4ms/step - loss: 0.4354 - accuracy: 0.7911\n",
            "Epoch 7/50\n",
            "50/50 [==============================] - 0s 3ms/step - loss: 0.4323 - accuracy: 0.7915\n",
            "Epoch 8/50\n",
            "50/50 [==============================] - 0s 4ms/step - loss: 0.4295 - accuracy: 0.7934\n",
            "Epoch 9/50\n",
            "50/50 [==============================] - 0s 3ms/step - loss: 0.4273 - accuracy: 0.7942\n",
            "Epoch 10/50\n",
            "50/50 [==============================] - 0s 5ms/step - loss: 0.4258 - accuracy: 0.7948\n",
            "Epoch 11/50\n",
            "50/50 [==============================] - 0s 4ms/step - loss: 0.4243 - accuracy: 0.7968\n",
            "Epoch 12/50\n",
            "50/50 [==============================] - 0s 7ms/step - loss: 0.4236 - accuracy: 0.7958\n",
            "Epoch 13/50\n",
            "50/50 [==============================] - 0s 5ms/step - loss: 0.4219 - accuracy: 0.7987\n",
            "Epoch 14/50\n",
            "50/50 [==============================] - 0s 4ms/step - loss: 0.4212 - accuracy: 0.7999\n",
            "Epoch 15/50\n",
            "50/50 [==============================] - 0s 5ms/step - loss: 0.4201 - accuracy: 0.8007\n",
            "Epoch 16/50\n",
            "50/50 [==============================] - 0s 5ms/step - loss: 0.4192 - accuracy: 0.8013\n",
            "Epoch 17/50\n",
            "50/50 [==============================] - 0s 4ms/step - loss: 0.4186 - accuracy: 0.8025\n",
            "Epoch 18/50\n",
            "50/50 [==============================] - 0s 5ms/step - loss: 0.4190 - accuracy: 0.7999\n",
            "Epoch 19/50\n",
            "50/50 [==============================] - 0s 4ms/step - loss: 0.4181 - accuracy: 0.8013\n",
            "Epoch 20/50\n",
            "50/50 [==============================] - 0s 3ms/step - loss: 0.4196 - accuracy: 0.7999\n",
            "Epoch 21/50\n",
            "50/50 [==============================] - 0s 4ms/step - loss: 0.4170 - accuracy: 0.8037\n",
            "Epoch 22/50\n",
            "50/50 [==============================] - 0s 5ms/step - loss: 0.4155 - accuracy: 0.8031\n",
            "Epoch 23/50\n",
            "50/50 [==============================] - 0s 4ms/step - loss: 0.4162 - accuracy: 0.8043\n",
            "Epoch 24/50\n",
            "50/50 [==============================] - 0s 4ms/step - loss: 0.4155 - accuracy: 0.8058\n",
            "Epoch 25/50\n",
            "50/50 [==============================] - 0s 4ms/step - loss: 0.4141 - accuracy: 0.8060\n",
            "Epoch 26/50\n",
            "50/50 [==============================] - 0s 4ms/step - loss: 0.4140 - accuracy: 0.8046\n",
            "Epoch 27/50\n",
            "50/50 [==============================] - 0s 4ms/step - loss: 0.4135 - accuracy: 0.8062\n",
            "Epoch 28/50\n",
            "50/50 [==============================] - 0s 3ms/step - loss: 0.4126 - accuracy: 0.8060\n",
            "Epoch 29/50\n",
            "50/50 [==============================] - 0s 3ms/step - loss: 0.4120 - accuracy: 0.8062\n",
            "Epoch 30/50\n",
            "50/50 [==============================] - 0s 3ms/step - loss: 0.4119 - accuracy: 0.8090\n",
            "Epoch 31/50\n",
            "50/50 [==============================] - 0s 3ms/step - loss: 0.4117 - accuracy: 0.8054\n",
            "Epoch 32/50\n",
            "50/50 [==============================] - 0s 4ms/step - loss: 0.4106 - accuracy: 0.8058\n",
            "Epoch 33/50\n",
            "50/50 [==============================] - 0s 4ms/step - loss: 0.4103 - accuracy: 0.8070\n",
            "Epoch 34/50\n",
            "50/50 [==============================] - 0s 3ms/step - loss: 0.4124 - accuracy: 0.8033\n",
            "Epoch 35/50\n",
            "50/50 [==============================] - 0s 3ms/step - loss: 0.4099 - accuracy: 0.8066\n",
            "Epoch 36/50\n",
            "50/50 [==============================] - 0s 3ms/step - loss: 0.4097 - accuracy: 0.8052\n",
            "Epoch 37/50\n",
            "50/50 [==============================] - 0s 3ms/step - loss: 0.4090 - accuracy: 0.8086\n",
            "Epoch 38/50\n",
            "50/50 [==============================] - 0s 3ms/step - loss: 0.4090 - accuracy: 0.8074\n",
            "Epoch 39/50\n",
            "50/50 [==============================] - 0s 3ms/step - loss: 0.4079 - accuracy: 0.8090\n",
            "Epoch 40/50\n",
            "50/50 [==============================] - 0s 3ms/step - loss: 0.4078 - accuracy: 0.8066\n",
            "Epoch 41/50\n",
            "50/50 [==============================] - 0s 3ms/step - loss: 0.4076 - accuracy: 0.8070\n",
            "Epoch 42/50\n",
            "50/50 [==============================] - 0s 3ms/step - loss: 0.4076 - accuracy: 0.8086\n",
            "Epoch 43/50\n",
            "50/50 [==============================] - 0s 3ms/step - loss: 0.4066 - accuracy: 0.8080\n",
            "Epoch 44/50\n",
            "50/50 [==============================] - 0s 3ms/step - loss: 0.4074 - accuracy: 0.8102\n",
            "Epoch 45/50\n",
            "50/50 [==============================] - 0s 3ms/step - loss: 0.4068 - accuracy: 0.8094\n",
            "Epoch 46/50\n",
            "50/50 [==============================] - 0s 3ms/step - loss: 0.4064 - accuracy: 0.8078\n",
            "Epoch 47/50\n",
            "50/50 [==============================] - 0s 3ms/step - loss: 0.4059 - accuracy: 0.8084\n",
            "Epoch 48/50\n",
            "50/50 [==============================] - 0s 3ms/step - loss: 0.4051 - accuracy: 0.8106\n",
            "Epoch 49/50\n",
            "50/50 [==============================] - 0s 3ms/step - loss: 0.4055 - accuracy: 0.8082\n",
            "Epoch 50/50\n",
            "50/50 [==============================] - 0s 3ms/step - loss: 0.4047 - accuracy: 0.8084\n"
          ]
        }
      ],
      "source": [
        "from sklearn.metrics import accuracy_score, precision_score, recall_score, roc_auc_score\n",
        "# test different metrics of each model using default hyperparameters\n",
        "# Create a dictionary named results, this is a dictionary of dictionaries (see the below cell for example)\n",
        "results = {}\n",
        "for name, model in models:\n",
        "    # fit the model with the training data\n",
        "    if name == 'ANN':\n",
        "        model.fit(X_train,y_train,epochs = 50, batch_size = 100)\n",
        "        y_predict = [round(x[0]) for x in model.predict(X_test)]\n",
        "        y_predict_proba = [x[0] for x in model.predict(X_test)]\n",
        "    else:\n",
        "        ##your code here## ##fit your model with X_train, y_train\n",
        "        model.fit(X_train, y_train)\n",
        "        y_predict = model.predict(X_test)   \n",
        "        \n",
        "        ##the predicted probability for the class 1##\n",
        "        y_predict_proba = model.predict_proba(X_test)[::,1]\n",
        "\n",
        "    # calculate accuracy, precision_score, recall_score, AUC\n",
        "    accuracy = round(accuracy_score(y_test, y_predict),2)\n",
        "    precision = round(precision_score(y_test, y_predict),2)\n",
        "    recall = round(recall_score(y_test, y_predict),1)\n",
        "    roc = round(roc_auc_score(y_test, y_predict),2)\n",
        "    \n",
        "    # append the model name and 3 metrics to the dictionary results\n",
        "    \n",
        "    results[name]= {'Accuracy':accuracy, 'precision': precision,  'recall': recall_score, 'auc' : roc}"
      ]
    },
    {
      "cell_type": "markdown",
      "id": "37dc13f9",
      "metadata": {
        "id": "37dc13f9"
      },
      "source": [
        "### the dictionary looks like this one\n",
        "results = \n",
        "{'random_forest': {'accuracy': 0.7,\n",
        "  'precision': 0.6,\n",
        "  'recall': 0.,\n",
        "  'auc': 0.},\n",
        " 'gradient_boosting': {'accuracy': 0.,\n",
        "  'precision': 0.,\n",
        "  'recall': 0.,\n",
        "  'auc': 0\n",
        " 'ANN': {'accuracy': 0.,\n",
        "  'precision': 0.,\n",
        "  'recall': 0.,\n",
        "  'auc': 0.}}"
      ]
    },
    {
      "cell_type": "code",
      "execution_count": null,
      "id": "1fcdcbac",
      "metadata": {
        "id": "1fcdcbac"
      },
      "outputs": [],
      "source": [
        "##uncomment the following code\n",
        "pd.DataFrame(results)"
      ]
    },
    {
      "cell_type": "markdown",
      "id": "053697bd",
      "metadata": {
        "id": "053697bd"
      },
      "source": [
        "Which method will you choose in this case?"
      ]
    }
  ],
  "metadata": {
    "kernelspec": {
      "display_name": "Python 3 (ipykernel)",
      "language": "python",
      "name": "python3"
    },
    "language_info": {
      "codemirror_mode": {
        "name": "ipython",
        "version": 3
      },
      "file_extension": ".py",
      "mimetype": "text/x-python",
      "name": "python",
      "nbconvert_exporter": "python",
      "pygments_lexer": "ipython3",
      "version": "3.9.7"
    },
    "colab": {
      "provenance": []
    }
  },
  "nbformat": 4,
  "nbformat_minor": 5
}